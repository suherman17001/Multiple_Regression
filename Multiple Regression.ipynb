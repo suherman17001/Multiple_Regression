{
 "cells": [
  {
   "cell_type": "code",
   "execution_count": 4,
   "metadata": {},
   "outputs": [],
   "source": [
    "import numpy as np\n",
    "import pandas as pd\n",
    "from matplotlib import pyplot as plt\n",
    "from sklearn.linear_model import LinearRegression\n",
    "import statsmodels.api as sm\n",
    "from statsmodels.stats.outliers_influence import variance_inflation_factor"
   ]
  },
  {
   "cell_type": "code",
   "execution_count": 2,
   "metadata": {},
   "outputs": [
    {
     "name": "stdout",
     "output_type": "stream",
     "text": [
      "numbers of row and collumns: (36, 5)\n"
     ]
    }
   ],
   "source": [
    "#input data\n",
    "df = pd.read_csv(\"D://portofolio/cars.csv\", sep=\";\")\n",
    "print('numbers of row and collumns:',df.shape)\n",
    "X = df[['Weight', 'Volume']]\n",
    "y = df['CO2']"
   ]
  },
  {
   "cell_type": "code",
   "execution_count": 9,
   "metadata": {},
   "outputs": [
    {
     "name": "stdout",
     "output_type": "stream",
     "text": [
      "Intercept: \n",
      " 79.69471929115937\n",
      "Coefficients: \n",
      " [0.00755095 0.00780526]\n",
      "predict: [ 93.46522516  97.82012716  94.51480683  93.25102045 100.01068547\n",
      "  94.51480683  98.99608035 101.70964861  99.79925895 100.8667207\n",
      "  95.6804309   97.31699187  95.89663018 101.63691732 102.19568742\n",
      " 102.22589121 102.49017436 106.53149836 100.63264133 105.33289232\n",
      " 104.14383181 106.08798705 106.39280312 102.86772172 105.98982473\n",
      " 102.46474333 106.55614578 108.33061839 103.68322403 108.17959944\n",
      " 108.20503047 108.48918828 101.50855121 102.67894804 102.79221225\n",
      " 109.74143455]\n"
     ]
    },
    {
     "data": {
      "image/png": "[encoded data removed]",
      "text/plain": [
       "<Figure size 432x288 with 1 Axes>"
      ]
     },
     "metadata": {
      "needs_background": "light"
     },
     "output_type": "display_data"
    }
   ],
   "source": [
    "#multiple regression\n",
    "regr = LinearRegression()\n",
    "regr.fit(X, y)\n",
    "predictedCO2 = regr.predict([[2300, 1300]])\n",
    "print('Intercept: \\n', regr.intercept_)\n",
    "print('Coefficients: \\n', regr.coef_)\n",
    "ypred = regr.predict(X)\n",
    "print(\"predict:\", ypred)\n",
    "#Scatter plot from 2 variable x and 1 variable y\n",
    "x1 = df['Weight']\n",
    "plt.scatter(x1, ypred, color = 'hotpink')\n",
    "x2 = df['Volume']\n",
    "plt.scatter(x2, ypred, color = '#88c999')\n",
    "plt.show()"
   ]
  },
  {
   "cell_type": "code",
   "execution_count": 10,
   "metadata": {},
   "outputs": [
    {
     "name": "stdout",
     "output_type": "stream",
     "text": [
      "rmse: 15.572928277226838\n"
     ]
    }
   ],
   "source": [
    "#accuracy size\n",
    "# mean squared error\n",
    "mse = np.sum((ypred - y)**2)\n",
    "# root mean squared error\n",
    "# m is the number of training examples\n",
    "m = 5\n",
    "rmse = np.sqrt(mse/m)\n",
    "print(\"rmse:\",rmse)"
   ]
  },
  {
   "cell_type": "code",
   "execution_count": 11,
   "metadata": {},
   "outputs": [
    {
     "name": "stdout",
     "output_type": "stream",
     "text": [
      "                            OLS Regression Results                            \n",
      "==============================================================================\n",
      "Dep. Variable:                    CO2   R-squared:                       0.377\n",
      "Model:                            OLS   Adj. R-squared:                  0.339\n",
      "Method:                 Least Squares   F-statistic:                     9.966\n",
      "Date:                Tue, 06 Apr 2021   Prob (F-statistic):           0.000411\n",
      "Time:                        21:02:27   Log-Likelihood:                -114.39\n",
      "No. Observations:                  36   AIC:                             234.8\n",
      "Df Residuals:                      33   BIC:                             239.5\n",
      "Df Model:                           2                                         \n",
      "Covariance Type:            nonrobust                                         \n",
      "==============================================================================\n",
      "                 coef    std err          t      P>|t|      [0.025      0.975]\n",
      "------------------------------------------------------------------------------\n",
      "Intercept     79.6947      5.564     14.322      0.000      68.374      91.016\n",
      "Weight         0.0076      0.006      1.173      0.249      -0.006       0.021\n",
      "Volume         0.0078      0.004      1.948      0.060      -0.000       0.016\n",
      "==============================================================================\n",
      "Omnibus:                        4.957   Durbin-Watson:                   0.944\n",
      "Prob(Omnibus):                  0.084   Jarque-Bera (JB):                1.836\n",
      "Skew:                          -0.025   Prob(JB):                        0.399\n",
      "Kurtosis:                       1.895   Cond. No.                     1.16e+04\n",
      "==============================================================================\n",
      "\n",
      "Warnings:\n",
      "[1] Standard Errors assume that the covariance matrix of the errors is correctly specified.\n",
      "[2] The condition number is large, 1.16e+04. This might indicate that there are\n",
      "strong multicollinearity or other numerical problems.\n"
     ]
    }
   ],
   "source": [
    "#regression like R software result\n",
    "import statsmodels.formula.api as smf\n",
    "\n",
    "#fit regression model\n",
    "fit = smf.ols('CO2 ~ Weight+Volume', data=df).fit()\n",
    "\n",
    "#view model summary\n",
    "print(fit.summary())"
   ]
  },
  {
   "cell_type": "code",
   "execution_count": 12,
   "metadata": {},
   "outputs": [
    {
     "name": "stdout",
     "output_type": "stream",
     "text": [
      "VIF: \n",
      "   variables        VIF\n",
      "0    Weight  43.094659\n",
      "1    Volume  43.094659\n"
     ]
    }
   ],
   "source": [
    "\n",
    "#multicollinearity check\n",
    "from statsmodels.stats.outliers_influence import variance_inflation_factor\n",
    "\n",
    "def calc_vif(X):\n",
    "\n",
    "    # Calculating VIF\n",
    "    vif = pd.DataFrame()\n",
    "    vif[\"variables\"] = X.columns\n",
    "    vif[\"VIF\"] = [variance_inflation_factor(X.values, i) for i in range(X.shape[1])]\n",
    "\n",
    "    return(vif)\n",
    "multicol = calc_vif(X ) \n",
    "print('VIF: \\n', multicol)"
   ]
  },
  {
   "cell_type": "code",
   "execution_count": 13,
   "metadata": {},
   "outputs": [
    {
     "data": {
      "text/plain": [
       "[('Lagrange multiplier statistic', 2.1148726118938113),\n",
       " ('p-value', 0.34734515654936315),\n",
       " ('f-value', 1.0298145760696267),\n",
       " ('f p-value', 0.3682639960520279)]"
      ]
     },
     "execution_count": 13,
     "metadata": {},
     "output_type": "execute_result"
    }
   ],
   "source": [
    "#homogeneity test\n",
    "from statsmodels.compat import lzip\n",
    "import statsmodels.stats.api as sms\n",
    "#perform Bresuch-Pagan test\n",
    "names = ['Lagrange multiplier statistic', 'p-value',\n",
    "        'f-value', 'f p-value']\n",
    "test = sms.het_breuschpagan(fit.resid, fit.model.exog)\n",
    "\n",
    "lzip(names, test)"
   ]
  },
  {
   "cell_type": "code",
   "execution_count": 15,
   "metadata": {},
   "outputs": [
    {
     "data": {
      "image/png": "[encoded data removed]",
      "text/plain": [
       "<Figure size 432x288 with 1 Axes>"
      ]
     },
     "metadata": {
      "needs_background": "light"
     },
     "output_type": "display_data"
    },
    {
     "name": "stdout",
     "output_type": "stream",
     "text": [
      "0     -5.534775\n",
      "1      2.820127\n",
      "2     -0.485193\n",
      "3      3.251020\n",
      "4     -4.989315\n",
      "5    -10.485193\n",
      "6      8.996080\n",
      "7      9.709649\n",
      "8      1.799259\n",
      "9      1.866721\n",
      "10    -3.319569\n",
      "11    -3.683008\n",
      "12    -3.103370\n",
      "13     7.636917\n",
      "14     5.195687\n",
      "15     5.225891\n",
      "16     3.490174\n",
      "17     2.531498\n",
      "18    -3.367359\n",
      "19     0.332892\n",
      "20    10.143832\n",
      "21     7.087987\n",
      "22     7.392803\n",
      "23     3.867722\n",
      "24     6.989825\n",
      "25     0.464743\n",
      "26     2.556146\n",
      "27    -5.669382\n",
      "28    -5.316776\n",
      "29    -5.820401\n",
      "30    -6.794970\n",
      "31    -8.510812\n",
      "32    -2.491449\n",
      "33    -5.321052\n",
      "34    -6.207788\n",
      "35   -10.258565\n",
      "Name: CO2, dtype: float64\n",
      "Statistics=0.992, p=0.822\n",
      "Sample looks Gaussian (fail to reject H0)\n"
     ]
    }
   ],
   "source": [
    "#normality test\n",
    "#using histogram\n",
    "# histogram plot\n",
    "plt.hist(ypred)\n",
    "plt.show()\n",
    "#\n",
    "residual = ypred - y\n",
    "print(residual)\n",
    "\n",
    "# Shapiro-Wilk Test\n",
    "from numpy.random import seed\n",
    "from numpy.random import randn\n",
    "from scipy.stats import shapiro\n",
    "# seed the random number generator\n",
    "seed(1)\n",
    "# generate univariate observations\n",
    "data = 5 * randn(100) + 50\n",
    "# normality test\n",
    "stat, p = shapiro(data)\n",
    "print('Statistics=%.3f, p=%.3f' % (stat, p))\n",
    "# interpret\n",
    "alpha = 0.05\n",
    "if p > alpha:\n",
    "\tprint('Sample looks Gaussian (fail to reject H0)')\n",
    "else:\n",
    "\tprint('Sample does not look Gaussian (reject H0)')"
   ]
  },
  {
   "cell_type": "code",
   "execution_count": null,
   "metadata": {},
   "outputs": [],
   "source": []
  }
 ],
 "metadata": {
  "kernelspec": {
   "display_name": "Python 3",
   "language": "python",
   "name": "python3"
  },
  "language_info": {
   "codemirror_mode": {
    "name": "ipython",
    "version": 3
   },
   "file_extension": ".py",
   "mimetype": "text/x-python",
   "name": "python",
   "nbconvert_exporter": "python",
   "pygments_lexer": "ipython3",
   "version": "3.7.4"
  }
 },
 "nbformat": 4,
 "nbformat_minor": 2
}
